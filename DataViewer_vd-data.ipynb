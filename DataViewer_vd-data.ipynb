{
 "cells": [
  {
   "cell_type": "markdown",
   "metadata": {},
   "source": [
    "### `vd-data` Data Viewer\n",
    "#### Rev. 8/23/2022."
   ]
  },
  {
   "cell_type": "code",
   "execution_count": null,
   "metadata": {},
   "outputs": [],
   "source": [
    "import au\n",
    "import os\n",
    "import h5py\n",
    "import numpy as np\n",
    "import scipy.constants as mks\n",
    "\n",
    "import matplotlib\n",
    "import matplotlib.pyplot as plt\n",
    "\n",
    "# data directory\n",
    "run_path = '/media/ayounis/DATA1/qray/2d1e/runx'\n",
    "\n",
    "# read input deck parameters\n",
    "fin = open(run_path+'/input.deck','r')\n",
    "for ln in fin:\n",
    "    if (ln[0:4] == 'omg0'): sln = ln.split(); omg0 = float(sln[1]); # frequency\n",
    "    if (ln[0:4] == 't_on'): sln = ln.split(); t_on = float(sln[1]); # pulse start time\n",
    "    if (ln[0:2] == 'R0'): sln = ln.split(); R0 = float(sln[1]); # ring radius\n",
    "T0 = 2*np.pi/omg0 # laser period"
   ]
  },
  {
   "cell_type": "markdown",
   "metadata": {},
   "source": [
    "### Load data"
   ]
  },
  {
   "cell_type": "code",
   "execution_count": null,
   "metadata": {},
   "outputs": [],
   "source": [
    "# load virtual detector data\n",
    "f = h5py.File(run_path+'/out/vd_data.h5','r')\n",
    "#print(list(f.keys()))\n",
    "\n",
    "# setting (Jrt/Krt)\n",
    "load = 'Jrt'\n",
    "\n",
    "# time array / VD positions\n",
    "t = np.array(f['t'])[:,0]; t = (t-t_on)/T0;\n",
    "VD_loc   = np.transpose(np.array(f['VD_loc']))\n",
    "print('\\ndim(VD_loc) (N_VD, nr) = ' + str(np.shape(VD_loc)))\n",
    "# probability current / momentum\n",
    "if (load == 'Jrt'):\n",
    "    VD_Jrt = np.array(f['VD_Jrt']).transpose(2,1,0)\n",
    "    print('dim(VD_Jrt) (nr, nt, N_VD) = ' + str(np.shape(VD_Jrt)))\n",
    "elif (load == 'Krt'):\n",
    "    VD_Krt = np.array(f['VD_Krt']).transpose(2,1,0)\n",
    "    print('dim(VD_Krt) (nr, nt, N_VD) = ' + str(np.shape(VD_Krt)))"
   ]
  },
  {
   "cell_type": "markdown",
   "metadata": {},
   "source": [
    "### Plot"
   ]
  },
  {
   "cell_type": "code",
   "execution_count": null,
   "metadata": {},
   "outputs": [],
   "source": [
    "# plotter settings\n",
    "font = {'size':24,'weight':'normal'}\n",
    "\n",
    "matplotlib.rc('font', **font)\n",
    "dpi = 100\n",
    "\n",
    "# toggle export\n",
    "save_PNG = False\n",
    "save_EPS = True\n",
    "\n",
    "# select VD\n",
    "n = 0\n",
    "angle = (n/np.shape(VD_loc)[0])*360.0\n",
    "\n",
    "# set time limits (cycles)\n",
    "tlims = [t[0],t[-1]]\n",
    "# set magnitude limits\n",
    "autoscale = True\n",
    "ylims = np.multiply([-2,2], 1e1)\n",
    "\n",
    "# set line-width\n",
    "lw = 1.5\n",
    "\n",
    "print('VD position: (' + '{:.3}'.format(R0) + ' au, ' + '{:.4}'.format(angle) + '°)')\n",
    "\n",
    "# PROBABILITY CURRENT\n",
    "if (load == 'Jrt'):\n",
    "    plt.figure(figsize=(12,8), dpi=dpi, facecolor='w')\n",
    "    plt.plot(t, VD_Jrt[0,:,n], 'k', label='$x_1$', lw=lw)\n",
    "    plt.plot(t, VD_Jrt[1,:,n], 'b', label='$x_2$', lw=lw)\n",
    "\n",
    "    plt.xlabel('Time (cyc.)', labelpad=10), plt.ylabel('$J(\\\\vec{x},t)$ (a.u.)', labelpad=10)\n",
    "    plt.ticklabel_format(axis='y', style='sci', scilimits=(0,0))\n",
    "    plt.legend(loc='best', frameon=False)\n",
    "    plt.xlim(tlims)\n",
    "    if (not autoscale): plt.ylim(ylims)\n",
    "\n",
    "    plt.annotate(' VD #' + str(n+1) + '. Position (R, $\\\\theta$): (' + \\\n",
    "                 '{:.3}'.format(R0) + ' au, ' + '{:.4}'.format(angle) + '°).', \\\n",
    "                 xy=(1e-2, 2e-2), xycoords='axes fraction', fontsize=font['size']-10, c='tab:red')\n",
    "\n",
    "    plt.tight_layout()\n",
    "    if (save_PNG): plt.savefig('VD'+str(n+1)+'_Jrt.png', dpi=dpi)\n",
    "    if (save_EPS): plt.savefig('VD'+str(n+1)+'_Jrt.eps', format='eps')\n",
    "    plt.show()\n",
    "\n",
    "# MOMENTUM\n",
    "if (load == 'Krt'):\n",
    "    plt.figure(figsize=(12,8), dpi=dpi, facecolor='w')\n",
    "    plt.plot(t, VD_Krt[0,:,n], 'k', label='$x_1$', lw=lw)\n",
    "    plt.plot(t, VD_Krt[1,:,n], 'b', label='$x_2$', lw=lw)\n",
    "    \n",
    "    plt.xlabel('Time (cyc.)', labelpad=10), plt.ylabel('$K(\\\\vec{x},t)$ (a.u.)', labelpad=10)\n",
    "    plt.ticklabel_format(axis='y', style='sci', scilimits=(0,0))\n",
    "    plt.legend(loc='best', frameon=False);\n",
    "    plt.xlim(tlims)\n",
    "    if (not autoscale): plt.ylim(ylims)\n",
    "    \n",
    "    plt.annotate(' VD #' + str(n+1) + '. Position (R, $\\\\theta$): (' + \\\n",
    "                 '{:.3}'.format(R0) + ' au, ' + '{:.4}'.format(angle) + '°).', \\\n",
    "                 xy=(1e-2, 2e-2), xycoords='axes fraction', fontsize=font['size']-10, c='tab:red')\n",
    "    \n",
    "    plt.tight_layout()\n",
    "    if (save_PNG): plt.savefig('VD'+str(n+1)+'_Krt.png', dpi=dpi)\n",
    "    if (save_EPS): plt.savefig('VD'+str(n+1)+'_Krt.eps', format='eps')\n",
    "    plt.show()"
   ]
  },
  {
   "cell_type": "code",
   "execution_count": null,
   "metadata": {},
   "outputs": [],
   "source": []
  }
 ],
 "metadata": {
  "kernelspec": {
   "display_name": "Python 3 (ipykernel)",
   "language": "python",
   "name": "python3"
  },
  "language_info": {
   "codemirror_mode": {
    "name": "ipython",
    "version": 3
   },
   "file_extension": ".py",
   "mimetype": "text/x-python",
   "name": "python",
   "nbconvert_exporter": "python",
   "pygments_lexer": "ipython3",
   "version": "3.10.9"
  }
 },
 "nbformat": 4,
 "nbformat_minor": 4
}
