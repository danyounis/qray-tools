{
 "cells": [
  {
   "cell_type": "markdown",
   "metadata": {},
   "source": [
    "### `rabi-split` Data Viewer\n",
    "#### Rev. 8/23/2022."
   ]
  },
  {
   "cell_type": "code",
   "execution_count": null,
   "metadata": {},
   "outputs": [],
   "source": [
    "import au\n",
    "import h5py\n",
    "import numpy as np\n",
    "import scipy.constants as mks\n",
    "\n",
    "import matplotlib\n",
    "import matplotlib.pyplot as plt\n",
    "\n",
    "from matplotlib.ticker import (MultipleLocator, AutoMinorLocator)\n",
    "\n",
    "# data directory\n",
    "home_path = '/media/ayounis/DATA1/rabi-split'\n",
    "run_path = 'run23'"
   ]
  },
  {
   "cell_type": "markdown",
   "metadata": {},
   "source": [
    "### Read input deck"
   ]
  },
  {
   "cell_type": "code",
   "execution_count": null,
   "metadata": {},
   "outputs": [],
   "source": [
    "f = open(home_path+'/'+run_path+'/'+'input.deck','r')\n",
    "for ln in f:\n",
    "    # wavefunction domain\n",
    "    if (ln[0:5] == 't_max'): sln = ln.split(); t_max = eval(sln[1].replace('d','e')); # simulation time\n",
    "    if (ln[0:5] == 'r_max'): sln = ln.split(); r_max = eval(sln[1].replace('d','e')); # radial extent\n",
    "    if (ln[0:5] == 'l_max'): sln = ln.split(); l_max = int(sln[1]); # OAM numbers\n",
    "    if (ln[0:2] == 'dr'): sln = ln.split(); dr = eval(sln[1].replace('d','e')); # spatial resolution\n",
    "    \n",
    "    # atomic properties\n",
    "    if (ln[0:3] == 'nlm'): sln = ln.split(); enn = int(sln[1]); ell = int(sln[2]); emm = int(sln[3]); # initial-state (nlm)\n",
    "    \n",
    "    # p-electron spectrum\n",
    "    if (ln[0:3] == 'rng'):\n",
    "        sln = ln.split()\n",
    "        e_min = eval(sln[1].replace('d','e')) # spectrum range\n",
    "        e_max = eval(sln[2].replace('d','e'))\n",
    "    if (ln[0:3] == 'res'): sln = ln.split(); de = eval(sln[1].replace('d','e')); # spectrum resolution\n",
    "    if (ln[0:3] == 'ord'): sln = ln.split(); nwop = int(sln[1]); # spectrum order\n",
    "    \n",
    "    # field\n",
    "    if (ln[0:2] == 'Eu'): sln = ln.split(); Fu = eval(sln[1].replace('d','e')); # pump/probe strength\n",
    "    if (ln[0:2] == 'Er'): sln = ln.split(); Fr = eval(sln[1].replace('d','e'));\n",
    "    \n",
    "    if (ln[0:5] == 'omg_u'): sln = ln.split(); omg_u = eval(sln[1].replace('d','e')); # pump/probe frequency\n",
    "    if (ln[0:5] == 'omg_r'): sln = ln.split(); omg_r = eval(sln[1].replace('d','e'));\n",
    "    \n",
    "    if (ln[0:5] == 'tu_on'): sln = ln.split(); tu_on = eval(sln[1].replace('d','e')); # pump/probe start time\n",
    "    if (ln[0:5] == 'tr_on'): sln = ln.split(); tr_on = eval(sln[1].replace('d','e'));\n",
    "\n",
    "# atomic transition frequencies\n",
    "omg21 = -0.5*(1/4-1)\n",
    "omg31 = -0.5*(1/9-1)\n",
    "omg32 = -0.5*(1/9-1/4)\n",
    "\n",
    "# laser periods\n",
    "T0u = 2*np.pi/omg_u\n",
    "T0r = 2*np.pi/omg_r\n",
    "\n",
    "# ponderomotive energies\n",
    "Upu = (Fu**2)/4.0/(omg_u**2)\n",
    "Upr = (Fr**2)/4.0/(omg_r**2)\n",
    "\n",
    "# spectrum resolution criterion (should be ~1)\n",
    "cry = de*r_max/np.sqrt(2*10*Upu)/np.pi\n",
    "# some dipole matrix elements\n",
    "d21 = 128*np.sqrt(2)/243 # <210|r|100>\n",
    "d31 = 27/64/np.sqrt(2) # <310|r|100>\n",
    "d32 = 110592*np.sqrt(3)/78125 # <320|r|210>\n",
    "d42 = 4096*np.sqrt(2)/6561 # <420|r|210>\n",
    "d43 = 191102976*np.sqrt(6/5)/40353607 # <430|r|320>\n",
    "\n",
    "# quasi-classical near-threshold bound-free dipole matrix element\n",
    "# see Fedorov \"Atomic and Free Electrons in a Strong Light Field,\" Section 1.4c.\n",
    "# approx. dipole coupling between a Rydberg state (n>>1) and near-threshold (E<<1) continuum state at E = En + omega.\n",
    "def dnc(n, omega):\n",
    "    return 0.22/(n**(3/2))/(omega**(5/3))\n",
    "\n",
    "# Rabi frequencies & periods\n",
    "Ru = np.sqrt((d32*Fu)**2 + (omg32-omg_u)**2)\n",
    "Rr = np.sqrt((d32*Fr)**2 + (omg32-omg_r)**2)\n",
    "Twu = 2*np.pi/Ru\n",
    "Twr = 0.0\n",
    "if (Fr != 0.0): Twr = 2*np.pi/Rr\n",
    "\n",
    "# echo loaded parameters\n",
    "print('\\n'+run_path)\n",
    "print('----------------------------------------')\n",
    "print('domain')\n",
    "print('t_max = ' + str(np.round(t_max*1e-4,4)) + 'e+4 a.u.')\n",
    "print('r_max = ' + str(np.round(r_max*1e-3,4)) + 'e+3 a.u.')\n",
    "print('l_max = ' + str(l_max))\n",
    "print('dr = ' + str(dr) + ' a.u.')\n",
    "print('----------------------------------------')\n",
    "print('atomic properties')\n",
    "print('nlm: (' + str(enn) + ',' + str(ell) + ',' + str(emm) + ')')\n",
    "print('----------------------------------------')\n",
    "print('p-electron spectrum')\n",
    "print('rng: [' + str(e_min) + ', ' + str(e_max) + '] a.u.')\n",
    "print('res: ' + str(np.round(de*1e+4,2)) + 'e-4 a.u.')\n",
    "print('ord: ' + str(nwop))\n",
    "print('cry: ' + str(np.round(cry,3)))\n",
    "print('----------------------------------------')\n",
    "print('field')\n",
    "print('Fu = ' + str(np.round(Fu*1e+3,4)) + 'e-3 a.u., Iu = ' + str(np.round((Fu**2)*au.I*1e-13,2)) + ' GW/cm2')\n",
    "print('Fr = ' + str(np.round(Fr*1e+3,4)) + 'e-3 a.u., Ir = ' + str(np.round((Fr**2)*au.I*1e-13,2)) + ' GW/cm2')\n",
    "print()\n",
    "print('omg_u = ' + str(omg_u) + ' a.u., λu = ' + str(np.round(2*np.pi*mks.c/(omg_u/au.t)*1e+9,2)) + ' nm')\n",
    "print('omg_r = ' + str(omg_r) + ' a.u., λr = ' + str(np.round(2*np.pi*mks.c/(omg_r/au.t)*1e+9,2)) + ' nm')\n",
    "print()\n",
    "print('tu_on: ' + str(tu_on) + ' a.u.')\n",
    "print('tr_on: ' + str(tr_on) + ' a.u.')\n",
    "print('----------------------------------------\\n')"
   ]
  },
  {
   "cell_type": "markdown",
   "metadata": {},
   "source": [
    "### Load data"
   ]
  },
  {
   "cell_type": "code",
   "execution_count": null,
   "metadata": {},
   "outputs": [],
   "source": [
    "f = h5py.File(home_path+'/'+run_path+'/'+'output.h5','r')\n",
    "\n",
    "# KEY NAMES MAY DIFFER BETWEEN OUTPUT FILES\n",
    "#print(list(f.keys()))\n",
    "\n",
    "# wavefunction matrix\n",
    "# its: time index skip, r_rng: radial window\n",
    "load_phi = True; its = 10; r_rng = [0.0, 5.0e+3];\n",
    "\n",
    "r = np.array(f['r'][:,0]); nr = len(r); dr = r[1]-r[0];\n",
    "t = np.array(f['t'][:,0]); nt = len(t); dt = t[1]-t[0];\n",
    "tf = np.array(f['tf'][:,0]); ntf = len(tf); dtf = tf[1]-tf[0];\n",
    "print('loaded grid')\n",
    "\n",
    "Eu = np.array(f['E_u(t)'][:,0]); Au = np.array(f['A_u(t)'][:,0]);\n",
    "Er = np.array(f['E_r(t)'][:,0]); Ar = np.array(f['A_r(t)'][:,0]);\n",
    "print('loaded fields')\n",
    "\n",
    "no = np.array(f['norm(phi)'][:,0])\n",
    "en = np.array(f['enrg(phi)'][:,0])\n",
    "print('loaded norm & energy')\n",
    "\n",
    "Pbt = np.array(f['Pb(t)']).transpose()\n",
    "Pft = np.array(f['Pf(t)']).transpose()\n",
    "print('loaded bound-state occupations')\n",
    "\n",
    "if ('E(c)' in f.keys()): Ec = np.array(f['E(c)'][:,0])\n",
    "if ('l(c)' in f.keys()): lc = np.array(f['l(c)'][:,0]).astype(int)\n",
    "\n",
    "if (load_phi):\n",
    "    phi = np.array(f['Re(phi)'][0::its,int(r_rng[0]/dr):int(r_rng[1]/dr),:]) \\\n",
    "     + 1j*np.array(f['Im(phi)'][0::its,int(r_rng[0]/dr):int(r_rng[1]/dr),:])\n",
    "    psi = np.sum(phi,2) # sum over l-channels\n",
    "    print('loaded wavefunction')\n",
    "    print('  dim(phi) (t,r,l) = ' + str(np.shape(phi)) + ' -deleted')\n",
    "    del phi\n",
    "\n",
    "E = np.array(f['E'][:,0])\n",
    "dW_dE = np.array(f['dW_dE']).transpose()\n",
    "print('loaded spectrum')\n",
    "\n",
    "# calculate bound/free occupations from normalized spectrum\n",
    "ion_prob = np.zeros(ntf)\n",
    "bnd_prob = np.zeros(ntf)\n",
    "\n",
    "for k in range(ntf):\n",
    "    ion_prob[k] = de * np.trapz(dW_dE[k,int(abs(E[0])/de):])\n",
    "    bnd_prob[k] = de * np.trapz(dW_dE[k,0:int(abs(E[0])/de)])\n",
    "\n",
    "# imshow windows\n",
    "extent1 = [0.0, r_max, 0.0, t_max*au.t]\n",
    "extent1_2 = [r_rng[0], r_rng[1], 0.0, t_max*au.t*1e+15]\n",
    "extent1_3 = [r_rng[0], r_rng[1], 0.0, t_max/T0u]\n",
    "extent2_au = [e_min, e_max, 0.0, t_max]\n",
    "extent2_eVfs = [e_min*au.E/mks.e, e_max*au.E/mks.e, 0.0, t_max*au.t*1e+15]\n",
    "extent2_eVT0 = [e_min*au.E/mks.e, e_max*au.E/mks.e, 0.0, t_max/T0u]\n",
    "print('done')"
   ]
  },
  {
   "cell_type": "markdown",
   "metadata": {},
   "source": [
    "### Plot settings"
   ]
  },
  {
   "cell_type": "code",
   "execution_count": null,
   "metadata": {},
   "outputs": [],
   "source": [
    "# plot settings\n",
    "font = {'size':16,'weight':'normal'} # default 'size':20\n",
    "matplotlib.rc('font',**font)\n",
    "dpi = 75 # 300 for production\n",
    "\n",
    "#matplotlib.rcParams['font.family'] = 'sans-serif'\n",
    "#matplotlib.rcParams['font.sans-serif'] = 'Arial'"
   ]
  },
  {
   "cell_type": "markdown",
   "metadata": {},
   "source": [
    "### Plot time-dependent electron spectrum"
   ]
  },
  {
   "cell_type": "code",
   "execution_count": null,
   "metadata": {},
   "outputs": [],
   "source": [
    "label_fs = 9\n",
    "xlims = [e_min*au.E/mks.e, e_max*au.E/mks.e]\n",
    "ylims = [0.0, t_max/T0u]\n",
    "clims = [-3, 3]\n",
    "aspect = 0.1\n",
    "save_PNG = False\n",
    "save_EPS = False\n",
    "\n",
    "# plot\n",
    "plt.figure(figsize=(8,6), dpi=dpi, facecolor='w')\n",
    "plt.imshow(np.log10(dW_dE), extent=extent2_eVT0, origin='lower', aspect=aspect, cmap='turbo')\n",
    "\n",
    "plt.xlabel('Electron energy (eV)'); plt.ylabel('Time ($T_0$)')\n",
    "\n",
    "plt.xlim(xlims), plt.ylim(ylims), plt.clim(clims);\n",
    "cbar = plt.colorbar(shrink=0.87, pad=0.02); cbar.set_label('Probability density, $\\\\log(dW/dE)$')\n",
    "\n",
    "ax = plt.gca()\n",
    "ax.xaxis.set_major_locator(MultipleLocator(5))\n",
    "ax.xaxis.set_minor_locator(MultipleLocator(1))\n",
    "ax.yaxis.set_major_locator(MultipleLocator(40))\n",
    "ax.yaxis.set_minor_locator(MultipleLocator(10))\n",
    "\n",
    "plt.tight_layout()\n",
    "if (save_PNG): plt.savefig('tdpes.png', dpi=dpi)\n",
    "if (save_EPS): plt.savefig('tdpes.eps', format='eps')\n",
    "plt.show()"
   ]
  },
  {
   "cell_type": "markdown",
   "metadata": {},
   "source": [
    "### Plot integrated wavefunction"
   ]
  },
  {
   "cell_type": "code",
   "execution_count": null,
   "metadata": {},
   "outputs": [],
   "source": [
    "plt.figure(figsize=(8,6), dpi=dpi, facecolor='w')\n",
    "plt.imshow(np.ma.log10(abs(psi)**2).filled(-100), extent=extent1_3, origin='lower', aspect=5, cmap='turbo')\n",
    "\n",
    "plt.xlabel('Radial coordinate ($a_0$)'), plt.ylabel('Time ($T_0$)')\n",
    "\n",
    "ax = plt.gca()\n",
    "ax.xaxis.set_major_locator(MultipleLocator(1000))\n",
    "ax.xaxis.set_minor_locator(MultipleLocator(500))\n",
    "ax.yaxis.set_major_locator(MultipleLocator(40))\n",
    "ax.yaxis.set_minor_locator(MultipleLocator(20))\n",
    "\n",
    "plt.colorbar(shrink=0.8, label='$\\\\log$ Wavefunction, $\\\\sum|\\\\varphi_{n\\ell}(\\\\vec{r})|^2$')\n",
    "plt.clim([-6,-2])\n",
    "\n",
    "plt.tight_layout()\n",
    "#plt.savefig('psit.png', dpi=dpi)\n",
    "#plt.savefig('psit.eps', format='eps')\n",
    "plt.show()"
   ]
  },
  {
   "cell_type": "markdown",
   "metadata": {},
   "source": [
    "### Plot bound/ionized fractions (from normalized spectrum)"
   ]
  },
  {
   "cell_type": "code",
   "execution_count": null,
   "metadata": {},
   "outputs": [],
   "source": [
    "plt.plot(au.t*tf*1e+15, bnd_prob, label='bound', c='tab:blue')\n",
    "plt.plot(au.t*tf*1e+15, ion_prob, label='ionized', c='tab:orange')\n",
    "plt.xlabel('Time (fs)'), plt.ylabel('Probability'), plt.legend(frameon=False)\n",
    "plt.show()"
   ]
  },
  {
   "cell_type": "markdown",
   "metadata": {},
   "source": [
    "### Plot bound-state projections"
   ]
  },
  {
   "cell_type": "code",
   "execution_count": null,
   "metadata": {},
   "outputs": [],
   "source": [
    "plt.figure(figsize=(7,5), dpi=dpi, facecolor='w')\n",
    "\n",
    "tp = t/Twu\n",
    "\n",
    "lw = 1.2 # linewidth\n",
    "plt.plot(tp, 1e+2*Pbt[1,:], c='k', label='$2p$', lw=1)\n",
    "plt.plot(tp, 1e+2*Pbt[2,:], '--', c='k', label='$3d$', lw=1)\n",
    "plt.plot(tp, 1e+2*np.sum(Pbt,axis=0), c='blue', label='BOUND', lw=lw)\n",
    "plt.plot(tp, 1e+2*(1.0-np.sum(Pbt,axis=0)), c='tab:red', label='FREE', lw=lw)\n",
    "plt.xlabel('Time ($T_\\\\Omega$)'), plt.ylabel('Level occupation (%)')\n",
    "\n",
    "''' use with tp = t*au.t\n",
    "gamma = 2.5e+11;\n",
    "plt.plot(tp, 1e+2*np.exp(-gamma*tp), c='g')\n",
    "'''\n",
    "\n",
    "leg = plt.legend(loc='upper center', ncol=4, fontsize=11, bbox_to_anchor=(0.5, 1.06), framealpha=1.0, fancybox=False, edgecolor='k', shadow=True)\n",
    "\n",
    "ax = plt.gca()\n",
    "ax.xaxis.set_major_locator(MultipleLocator(5))\n",
    "ax.xaxis.set_minor_locator(MultipleLocator(0.5))\n",
    "ax.yaxis.set_major_locator(MultipleLocator(20))\n",
    "ax.yaxis.set_minor_locator(MultipleLocator(10))\n",
    "\n",
    "plt.tight_layout()\n",
    "#plt.savefig('bsp.png', dpi=dpi)\n",
    "#plt.savefig('bsp.eps', format='eps')\n",
    "plt.show()"
   ]
  },
  {
   "cell_type": "markdown",
   "metadata": {},
   "source": [
    "### Plot continuum-state projections"
   ]
  },
  {
   "cell_type": "code",
   "execution_count": null,
   "metadata": {},
   "outputs": [],
   "source": [
    "plt.figure(figsize=(7,5), dpi=dpi, facecolor='w')\n",
    "\n",
    "tp = t/Twu\n",
    "\n",
    "lw = 1.2 # linewidth\n",
    "#plt.plot(tp, 1e+2*Pft[0,:], c='k', label='$|E_1 f 0\\\\rangle$', lw=1)\n",
    "plt.plot(tp, 1e+4*Pft[1,:], '-', c='k', label='$|E_2 f 0\\\\rangle$', lw=1)\n",
    "plt.xlabel('Time ($T_\\\\Omega$)'), plt.ylabel('Level occupation ($\\\\times10^{-2}$) (%)')\n",
    "\n",
    "leg = plt.legend(loc='upper center', ncol=4, fontsize=11, bbox_to_anchor=(0.5, 1.06), framealpha=1.0, fancybox=False, edgecolor='k', shadow=True)\n",
    "\n",
    "'''\n",
    "ax = plt.gca()\n",
    "ax.xaxis.set_major_locator(MultipleLocator(1))\n",
    "ax.xaxis.set_minor_locator(MultipleLocator(0.5))\n",
    "ax.yaxis.set_major_locator(MultipleLocator(0.25))\n",
    "ax.yaxis.set_minor_locator(MultipleLocator(0.125))\n",
    "'''\n",
    "\n",
    "plt.tight_layout()\n",
    "#plt.savefig('csp.png', dpi=dpi)\n",
    "#plt.savefig('csp.eps', format='eps')\n",
    "plt.show()"
   ]
  },
  {
   "cell_type": "markdown",
   "metadata": {},
   "source": [
    "### Plot time lineouts of electron spectrum"
   ]
  },
  {
   "cell_type": "code",
   "execution_count": null,
   "metadata": {},
   "outputs": [],
   "source": [
    "# time indices to plot\n",
    "i = [0,-1]; ni = len(i);\n",
    "# legend labels\n",
    "lebs = ['$T_A$','$T_B$']\n",
    "# colors\n",
    "cs = ['mediumblue','tab:red']\n",
    "# linewidth\n",
    "lw = 1.5\n",
    "\n",
    "for k in range(ni):\n",
    "    print('t('+str(k)+') = ' + str(np.round(tf[i[k]]/T0u,2)) + \\\n",
    "          ' u. cyc. or ' + str(np.round(tf[i[k]]*au.t*1e+15,2)) + ' fs')\n",
    "\n",
    "plt.figure(figsize=(8,6), dpi=dpi, facecolor='w')\n",
    "for k in range(ni):\n",
    "    plt.semilogy(E/omg_u, (10**(3*k))*dW_dE[i[k],:], lw=lw, c=cs[k], label=lebs[k])\n",
    "\n",
    "ax = plt.gca()\n",
    "ax.tick_params(labelleft=False)\n",
    "\n",
    "plt.grid(alpha=0.6, which='both')\n",
    "\n",
    "ax = plt.gca()\n",
    "ax.xaxis.set_major_locator(MultipleLocator(2))\n",
    "ax.xaxis.set_minor_locator(MultipleLocator(1))\n",
    "\n",
    "plt.xlabel('Electron energy ($\\\\omega$)', usetex=False)\n",
    "plt.ylabel('Probability density, $\\\\log(dW/dE)$', usetex=False)\n",
    "\n",
    "plt.text(0.05, 1e-9*0.13e1, 'CONTINUUM', fontsize=11, ha='left', va='bottom', rotation=90)\n",
    "\n",
    "leg = plt.legend(loc='best', title='\\\\textbf{Time}', ncol=1, fontsize=12, framealpha=1.0, fancybox=False, edgecolor='k', shadow=True)\n",
    "plt.setp(leg.get_title(), fontsize='12', usetex=True)\n",
    "\n",
    "plt.tight_layout()\n",
    "#plt.savefig('pes.png', dpi=dpi)\n",
    "#plt.savefig('pes.eps', format='eps')\n",
    "plt.show()"
   ]
  },
  {
   "cell_type": "markdown",
   "metadata": {},
   "source": [
    "### Plot total field vs. time"
   ]
  },
  {
   "cell_type": "code",
   "execution_count": null,
   "metadata": {},
   "outputs": [],
   "source": [
    "plt.figure(figsize=(7,5), dpi=dpi, facecolor='w')\n",
    "plt.plot(t/T0u, Eu*au.F*1e-9, lw=0.3, c='darkred')\n",
    "plt.plot(t/T0u, Er*au.F*1e-9, lw=0.3, c='darkblue')\n",
    "\n",
    "plt.xlabel('Time ($T_0$)'), plt.ylabel('Field strength (GV/m)')\n",
    "\n",
    "ax = plt.gca()\n",
    "ax.xaxis.set_minor_locator(MultipleLocator(10))\n",
    "\n",
    "plt.tight_layout()\n",
    "#plt.savefig('fld.png', dpi=dpi)\n",
    "#plt.savefig('fld.eps', format='eps')\n",
    "plt.show()"
   ]
  },
  {
   "cell_type": "markdown",
   "metadata": {},
   "source": [
    "### Plot norm / energy"
   ]
  },
  {
   "cell_type": "code",
   "execution_count": null,
   "metadata": {},
   "outputs": [],
   "source": [
    "fig, ax1 = plt.subplots(figsize=(10,7), dpi=dpi, facecolor='w')\n",
    "\n",
    "ln1 = ax1.plot(t/T0u, en*au.E/mks.e, 'mediumblue', lw=2.0);\n",
    "ax1.spines['left'].set_color('mediumblue');\n",
    "ax1.tick_params(axis='y', colors='mediumblue');\n",
    "plt.ylabel('$\\\\langle H(\\\\vec{r},\\\\vec{p})\\\\rangle$ (eV)', c='mediumblue', labelpad=10);\n",
    "\n",
    "ax2 = ax1.twinx();\n",
    "ln2 = ax2.plot(t/T0u, no, 'k', lw=2.0);\n",
    "plt.ylabel('$\\\\int|\\\\Psi(\\\\vec{r},t)|^2\\\\,d^2r$', labelpad=15);\n",
    "\n",
    "ax1.set_xlabel('Time ($T_0$)', labelpad=10);\n",
    "ax1.set_xlim(np.divide([t[0],t[-1]],T0u));\n",
    "\n",
    "ax = plt.gca()\n",
    "ax.xaxis.set_major_locator(MultipleLocator(50))\n",
    "ax.xaxis.set_minor_locator(MultipleLocator(25))\n",
    "\n",
    "plt.tight_layout()\n",
    "#plt.savefig('expvals.png', dpi=dpi)\n",
    "#plt.savefig('expvals.eps', format='eps')\n",
    "plt.show()"
   ]
  },
  {
   "cell_type": "code",
   "execution_count": null,
   "metadata": {},
   "outputs": [],
   "source": []
  }
 ],
 "metadata": {
  "kernelspec": {
   "display_name": "Python 3 (ipykernel)",
   "language": "python",
   "name": "python3"
  },
  "language_info": {
   "codemirror_mode": {
    "name": "ipython",
    "version": 3
   },
   "file_extension": ".py",
   "mimetype": "text/x-python",
   "name": "python",
   "nbconvert_exporter": "python",
   "pygments_lexer": "ipython3",
   "version": "3.10.9"
  }
 },
 "nbformat": 4,
 "nbformat_minor": 4
}
