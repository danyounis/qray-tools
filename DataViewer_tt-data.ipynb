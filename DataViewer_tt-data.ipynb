{
 "cells": [
  {
   "cell_type": "markdown",
   "id": "1553c40d",
   "metadata": {},
   "source": [
    "### `tt-data` Data Viewer\n",
    "#### Rev. 8/23/2022. (under construction)"
   ]
  },
  {
   "cell_type": "code",
   "execution_count": null,
   "id": "fa0505e0",
   "metadata": {},
   "outputs": [],
   "source": [
    "import au\n",
    "import h5py\n",
    "import numpy as np\n",
    "import scipy.constants as mks\n",
    "\n",
    "import matplotlib\n",
    "import matplotlib.pyplot as plt"
   ]
  },
  {
   "cell_type": "code",
   "execution_count": null,
   "id": "0c7c65b2",
   "metadata": {},
   "outputs": [],
   "source": [
    "# data directory\n",
    "home_path = '/home/ayounis/Documents/EBERLY/PROJECTS/QuantaRay-adhoc/source'\n",
    "run_path = 'main'\n",
    "\n",
    "f = h5py.File(home_path+'/'+run_path+'/'+'tt_data.h5','r')\n",
    "print(list(f.keys()))\n",
    "\n",
    "t = np.array(f['t'][:,0])\n",
    "x = np.array(f['x'][:,0])\n",
    "y = np.array(f['y'][:,0])\n",
    "px = np.array(f['px'][:,0])\n",
    "py = np.array(f['py'][:,0])\n",
    "fz = np.array(f['fz'][:,0])\n",
    "en = np.array(f['en']).transpose()\n",
    "idx = np.array(f['id'][:,0])\n",
    "\n",
    "T0 = 2*np.pi/0.3797;"
   ]
  },
  {
   "cell_type": "markdown",
   "id": "d4fdadf0",
   "metadata": {},
   "source": [
    "### Plotter settings"
   ]
  },
  {
   "cell_type": "code",
   "execution_count": null,
   "id": "6fe3bb71",
   "metadata": {},
   "outputs": [],
   "source": [
    "# plot settings\n",
    "font = {'size':16,'weight':'normal'} # default 'size':20\n",
    "matplotlib.rc('font',**font)\n",
    "dpi = 100 # 300 for production\n",
    "\n",
    "#matplotlib.rcParams['font.family'] = 'sans-serif'\n",
    "#matplotlib.rcParams['font.sans-serif'] = 'Arial'"
   ]
  },
  {
   "cell_type": "code",
   "execution_count": null,
   "id": "740ed12d",
   "metadata": {},
   "outputs": [],
   "source": [
    "n = 5\n",
    "save_PNG = False\n",
    "\n",
    "tl = t[idx[n-1]:idx[n]-1]/T0\n",
    "xl = x[idx[n-1]:idx[n]-1]\n",
    "yl = y[idx[n-1]:idx[n]-1]\n",
    "pxl = px[idx[n-1]:idx[n]-1]\n",
    "pyl = py[idx[n-1]:idx[n]-1]\n",
    "fzl = fz[idx[n-1]:idx[n]-1]\n",
    "en1 = en[0,idx[n-1]:idx[n]-1]\n",
    "en2 = en[1,idx[n-1]:idx[n]-1]\n",
    "\n",
    "ang = str(np.round(n*360.0/(len(idx)-1),2))\n",
    "ang = str(np.round(np.arctan2(yl[0],xl[0]),2))\n",
    "print('detector angle: ' + ang + '°')\n",
    "\n",
    "# energy\n",
    "plt.figure(figsize=(6,4), dpi=dpi, facecolor='w')\n",
    "plt.plot(tl, en1, label='$e_1$')\n",
    "plt.plot(tl, en2, label='$e_2$\\t VD angle: ' + ang + '°')\n",
    "plt.xlabel('Time ($T_0$)')\n",
    "plt.ylabel('Energy (a.u.)')\n",
    "\n",
    "plt.legend(loc='upper center', ncol=2, fontsize=font['size']-4, bbox_to_anchor=(0.5, 1.2), framealpha=1.0, fancybox=False, edgecolor='k', shadow=True)\n",
    "\n",
    "plt.tight_layout()\n",
    "if (save_PNG): plt.savefig('n'+str(n)+'_en-'+ang+'deg.png', dpi=dpi)\n",
    "plt.show()\n",
    "\n",
    "# position (t-x1/x2)\n",
    "plt.figure(figsize=(6,4), dpi=dpi, facecolor='w')\n",
    "plt.plot(tl, xl, label='$x_1$')\n",
    "plt.plot(tl, yl, label='$x_2$\\t VD angle: ' + ang + '°')\n",
    "plt.xlabel('Time ($T_0$)')\n",
    "plt.ylabel('Position ($a_0$)')\n",
    "\n",
    "plt.legend(loc='upper center', ncol=2, fontsize=font['size']-4, bbox_to_anchor=(0.5, 1.2), framealpha=1.0, fancybox=False, edgecolor='k', shadow=True)\n",
    "\n",
    "plt.tight_layout()\n",
    "if (save_PNG): plt.savefig('n'+str(n)+'_xt-'+ang+'deg.png', dpi=dpi, facecolor='w')\n",
    "plt.show()\n",
    "\n",
    "# momenta\n",
    "plt.figure(figsize=(6,4), dpi=dpi, facecolor='w')\n",
    "plt.plot(tl, pxl, label='$p_1$')\n",
    "plt.plot(tl, pyl, label='$p_2$\\t VD angle: ' + ang + '°')\n",
    "plt.xlabel('Time ($T_0$)')\n",
    "plt.ylabel('Momentum (a.u.)')\n",
    "\n",
    "plt.legend(loc='upper center', ncol=2, fontsize=font['size']-4, bbox_to_anchor=(0.5, 1.2), framealpha=1.0, fancybox=False, edgecolor='k', shadow=True)\n",
    "\n",
    "plt.tight_layout()\n",
    "if (save_PNG): plt.savefig('n'+str(n)+'_pt-'+ang+'deg.png', dpi=dpi, facecolor='w')\n",
    "plt.show()\n"
   ]
  },
  {
   "cell_type": "code",
   "execution_count": null,
   "id": "532234d5",
   "metadata": {},
   "outputs": [],
   "source": [
    "save_PNG = False\n",
    "\n",
    "plt.figure(figsize=(7,7), dpi=dpi, facecolor='w')\n",
    "for n in range(len(idx)-1):\n",
    "    plt.plot(x[idx[n]:idx[n+1]], y[idx[n]:idx[n+1]], c='k', lw=0.1)\n",
    "\n",
    "rng = 200.\n",
    "plt.xlim([-rng,rng])\n",
    "plt.ylim([-rng,rng])\n",
    "\n",
    "plt.xlabel('$x_1$ ($a_0$)')\n",
    "plt.ylabel('$x_2$ ($a_0$)')\n",
    "\n",
    "ax = plt.gca()\n",
    "ax.set_aspect('equal', adjustable='box')\n",
    "\n",
    "plt.tight_layout()\n",
    "if (save_PNG): plt.savefig('x1-x2.png', dpi=dpi)\n",
    "plt.show()"
   ]
  },
  {
   "cell_type": "code",
   "execution_count": null,
   "id": "fc2758f0",
   "metadata": {},
   "outputs": [],
   "source": []
  }
 ],
 "metadata": {
  "kernelspec": {
   "display_name": "Python 3 (ipykernel)",
   "language": "python",
   "name": "python3"
  },
  "language_info": {
   "codemirror_mode": {
    "name": "ipython",
    "version": 3
   },
   "file_extension": ".py",
   "mimetype": "text/x-python",
   "name": "python",
   "nbconvert_exporter": "python",
   "pygments_lexer": "ipython3",
   "version": "3.10.9"
  }
 },
 "nbformat": 4,
 "nbformat_minor": 5
}
