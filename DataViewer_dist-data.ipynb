{
 "cells": [
  {
   "cell_type": "markdown",
   "metadata": {},
   "source": [
    "### `dist-data` Data Viewer\n",
    "#### Rev. 8/23/2022."
   ]
  },
  {
   "cell_type": "code",
   "execution_count": null,
   "metadata": {},
   "outputs": [],
   "source": [
    "import au\n",
    "import h5py\n",
    "import numpy as np\n",
    "\n",
    "import matplotlib\n",
    "import matplotlib.pyplot as plt\n",
    "from matplotlib.ticker import (MultipleLocator, AutoMinorLocator)\n",
    "\n",
    "# data directory\n",
    "run_path = '/media/ayounis/DATA1/qray/1d2e/2021/run3'"
   ]
  },
  {
   "cell_type": "markdown",
   "metadata": {},
   "source": [
    "### Load momentum / position distribution data"
   ]
  },
  {
   "cell_type": "code",
   "execution_count": null,
   "metadata": {},
   "outputs": [],
   "source": [
    "# distribution\n",
    "mode = 'p'\n",
    "\n",
    "# Momentum distribution\n",
    "if (mode == 'p'):\n",
    "    #f = h5py.File(run_path+'/dist_data/pdist.h5','r')\n",
    "    f = h5py.File(run_path+'/out/dist_data/pdist.h5','r')\n",
    "    \n",
    "    p1 = np.array(f['p1']); dp1 = p1[1]-p1[0];\n",
    "    p2 = np.array(f['p2']); dp2 = p2[1]-p2[0];\n",
    "    extent_p = [p1[0],p1[-1],p2[0],p2[-1]]\n",
    "    \n",
    "    W0 = np.array(f['W0'])\n",
    "    Wp = np.abs(np.array(f['Re(W)']) + 1j*np.array(f['Im(W)']))**2\n",
    "    # normalize\n",
    "    W0 = (W0-np.min(W0))/(np.max(W0)-np.min(W0))\n",
    "    Wp = (Wp-np.min(Wp))/(np.max(Wp)-np.min(Wp))\n",
    "    # log10\n",
    "    logWp = np.ma.log10(Wp).filled(-50)\n",
    "    logW0 = np.ma.log10(W0).filled(-50)\n",
    "    \n",
    "    nde = np.array(f['nde'])\n",
    "    print('\\nMomentum distribution')\n",
    "    print(str(np.round(nde*1e-6,3)) + ' million virtual particles')\n",
    "    print('bins: ' + str(np.shape(p1)[0]))\n",
    "\n",
    "# Position distribution\n",
    "if (mode == 'x'):\n",
    "    f = h5py.File(run_path+'/dist_data/xdist.h5','r')\n",
    "    \n",
    "    x1 = np.array(f['x1']); dx1 = x1[1]-x1[0];\n",
    "    x2 = np.array(f['x2']); dx2 = x2[1]-x2[0];\n",
    "    extent_x = [x1[0],x1[-1],x2[0],x2[-1]]\n",
    "    \n",
    "    W0 = np.array(f['W0'])\n",
    "    Wp = np.abs(np.array(f['Re(W)']) + 1j*np.array(f['Im(W)']))**2\n",
    "    # normalize\n",
    "    W0 = (W0-np.min(W0))/(np.max(W0)-np.min(W0))\n",
    "    Wp = (Wp-np.min(Wp))/(np.max(Wp)-np.min(Wp))\n",
    "    # log10\n",
    "    logWp = np.ma.log10(Wp).filled(-50)\n",
    "    logW0 = np.ma.log10(W0).filled(-50)\n",
    "    \n",
    "    nde = np.array(f['nde'])\n",
    "    print('\\nPosition distribution')\n",
    "    print(str(nde*1e-6) + ' million virtual particles')\n",
    "    print('bins: ' + str(np.shape(x1)[0]))"
   ]
  },
  {
   "cell_type": "markdown",
   "metadata": {},
   "source": [
    "### Plotter settings"
   ]
  },
  {
   "cell_type": "code",
   "execution_count": null,
   "metadata": {},
   "outputs": [],
   "source": [
    "font = {'size':22,'weight':'normal'}\n",
    "\n",
    "matplotlib.rc('font',**font)\n",
    "dpi = 75 # 300 for production\n",
    "\n",
    "# toggle PNG/EPS export\n",
    "save_PNG = False\n",
    "save_EPS = False"
   ]
  },
  {
   "cell_type": "markdown",
   "metadata": {},
   "source": [
    "### Plot momentum distribution"
   ]
  },
  {
   "cell_type": "code",
   "execution_count": null,
   "metadata": {},
   "outputs": [],
   "source": [
    "# viewer settings\n",
    "view_type = 'log'\n",
    "view_cmap = 'turbo'\n",
    "# axes line-width\n",
    "axlw = 1\n",
    "# color-axis limits, cbar shrink, pad\n",
    "if view_type == 'log': clim = [np.min(logWp)+10,np.max(logWp)+5]\n",
    "if view_type == 'log': clim = [-8,0]\n",
    "if view_type == 'lin': clim = [0,1e-2]\n",
    "shrink = 0.5; pad = 0.025;\n",
    "\n",
    "plt.figure(figsize=(8,8), dpi=dpi, facecolor='w')\n",
    "\n",
    "if (view_type == 'log'):\n",
    "    plt.imshow(logWp, extent=extent_p, origin='lower', cmap=view_cmap)\n",
    "if (view_type == 'lin'):\n",
    "    plt.imshow(Wp, extent=extent_p, origin='lower', cmap=view_cmap)\n",
    "\n",
    "plt.plot([0,0], [p2[0],p2[-1]], '-', c='k', lw=axlw)\n",
    "plt.plot([p1[0],p1[-1]], [0,0], '-', c='k', lw=axlw)\n",
    "\n",
    "cbar = plt.colorbar(shrink=shrink, pad=pad, ticks=[]); cbar.ax.tick_params(labelsize=font['size']); plt.clim(clim);\n",
    "if (view_type == 'log'): cbar.set_label('$\\\\log W(\\\\vec{p})$', labelpad=10, fontsize=font['size']-4);\n",
    "if (view_type == 'lin'): cbar.set_label('$W(\\\\vec{p})$', labelpad=10, fontsize=font['size']-4);\n",
    "\n",
    "plt.xlim([p1[0]+0.015*p1[0], p1[-1]+0.015*p1[-1]]), plt.ylim([p2[0]+0.015*p2[0], p2[-1]+0.015*p2[-1]])\n",
    "\n",
    "plt.xlabel('P${}_1$ (a.u.)', labelpad=8)\n",
    "plt.ylabel('P${}_2$ (a.u.)', labelpad=0)\n",
    "\n",
    "ax = plt.gca()\n",
    "ax.set_aspect('equal', adjustable='box')\n",
    "ax.xaxis.set_major_locator(MultipleLocator(2))\n",
    "ax.xaxis.set_minor_locator(MultipleLocator(0.5))\n",
    "ax.yaxis.set_major_locator(MultipleLocator(2))\n",
    "ax.yaxis.set_minor_locator(MultipleLocator(0.5))\n",
    "\n",
    "plt.tight_layout()\n",
    "if (save_PNG): plt.savefig('pdist_'+str(view_type)+'.png', dpi=dpi)\n",
    "if (save_EPS): plt.savefig('pdist_'+str(view_type)+'.eps', format='eps')\n",
    "plt.show()"
   ]
  },
  {
   "cell_type": "code",
   "execution_count": null,
   "metadata": {},
   "outputs": [],
   "source": [
    "l = np.shape(Wp)[0]\n",
    "\n",
    "'''Integrate W(p) in quadrants II and IV'''\n",
    "Qn = dp1*dp2*np.trapz(np.trapz(Wp[int(l/2):, 0:int(l/2)])) \\\n",
    "   + dp1*dp2*np.trapz(np.trapz(Wp[0:int(l/2), int(l/2):]))\n",
    "'''Integrate W(p) in quadrants I and III'''\n",
    "Qp = dp1*dp2*np.trapz(np.trapz(Wp[int(l/2):, int(l/2):])) \\\n",
    "   + dp1*dp2*np.trapz(np.trapz(Wp[0:int(l/2), 0:int(l/2)]))\n",
    "\n",
    "print('Probability(p1*p2 < 0) = ' + str(np.round(1e+2*Qn/(Qn+Qp),3)) + '%')"
   ]
  },
  {
   "cell_type": "markdown",
   "metadata": {},
   "source": [
    "### Plot position distribution"
   ]
  },
  {
   "cell_type": "code",
   "execution_count": null,
   "metadata": {},
   "outputs": [],
   "source": [
    "# viewer settings\n",
    "view_type = 'log'\n",
    "view_cmap = 'turbo'\n",
    "# axes line-width\n",
    "axlw = 1\n",
    "# color-axis limits, cbar shrink, pad\n",
    "if view_type == 'log': clim = [np.min(logWp),np.max(logWp)+10]\n",
    "if view_type == 'lin': clim = [0,5e-3]\n",
    "shrink = 0.5; pad = 0.025;\n",
    "\n",
    "plt.figure(figsize=(8,8), dpi=dpi, facecolor='w')\n",
    "\n",
    "if (view_type == 'log'):\n",
    "    plt.imshow(logWp, extent=extent_x, origin='lower', cmap=view_cmap)\n",
    "if (view_type == 'lin'):\n",
    "    plt.imshow(Wp, extent=extent_x, origin='lower', cmap=view_cmap)\n",
    "\n",
    "plt.plot([0,0], [x2[0],x2[-1]], '-', c='w', lw=axlw)\n",
    "plt.plot([x1[0],x1[-1]], [0,0], '-', c='w', lw=axlw)\n",
    "\n",
    "cbar = plt.colorbar(shrink=shrink, pad=pad, ticks=[]); cbar.ax.tick_params(labelsize=font['size']); plt.clim(clim);\n",
    "if (view_type == 'log'): cbar.set_label('$\\\\log W(\\\\vec{x})$', labelpad=10, fontsize=font['size']-4);\n",
    "if (view_type == 'lin'): cbar.set_label('$W(\\\\vec{x})$', labelpad=10, fontsize=font['size']-4);\n",
    "\n",
    "plt.xlim([x1[0]+0.015*x1[0], x1[-1]+0.015*x1[-1]]), plt.ylim([x2[0]+0.015*x2[0], x2[-1]+0.015*x2[-1]])\n",
    "\n",
    "plt.xlabel('X${}_1$ ($a_0$)', labelpad=12)\n",
    "plt.ylabel('X${}_2$ ($a_0$)', labelpad=-5)\n",
    "\n",
    "ax = plt.gca()\n",
    "ax.set_aspect('equal', adjustable='box')\n",
    "ax.xaxis.set_major_locator(MultipleLocator(1e+3))\n",
    "ax.xaxis.set_minor_locator(MultipleLocator(2e+2))\n",
    "ax.yaxis.set_major_locator(MultipleLocator(1e+3))\n",
    "ax.yaxis.set_minor_locator(MultipleLocator(2e+2))\n",
    "\n",
    "plt.tight_layout()\n",
    "if (save_PNG): plt.savefig('xdist_'+str(view_type)+'.png', dpi=dpi)\n",
    "if (save_EPS): plt.savefig('xdist_'+str(view_type)+'.eps', format='eps')\n",
    "plt.show()"
   ]
  },
  {
   "cell_type": "markdown",
   "metadata": {},
   "source": [
    "### Energy lineout diagnostic"
   ]
  },
  {
   "cell_type": "code",
   "execution_count": null,
   "metadata": {},
   "outputs": [],
   "source": [
    "# transverse averaging samples\n",
    "tas = 15\n",
    "\n",
    "yE = np.zeros(np.shape(Wp)[0])\n",
    "for i in range(tas):\n",
    "    yE += Wp[i+int(np.shape(Wp)[0]/2)-int(tas/2),:]\n",
    "yE = (yE-np.min(yE))/(np.max(yE)-np.min(yE))\n",
    "\n",
    "# laser photon energy\n",
    "omg = 0.0584\n",
    "\n",
    "xE = p1**2/2.0/omg"
   ]
  },
  {
   "cell_type": "markdown",
   "metadata": {},
   "source": [
    "### Plot energy lineout"
   ]
  },
  {
   "cell_type": "code",
   "execution_count": null,
   "metadata": {},
   "outputs": [],
   "source": [
    "plt.figure(figsize=(14,8), dpi=dpi, facecolor='w')\n",
    "plt.plot(xE[int(len(p1)/2)+1:], yE[int(len(p1)/2):], 'k', lw=1.5)\n",
    "\n",
    "plt.xlabel('Energy ($\\omega$)', labelpad=15)\n",
    "plt.ylabel('Yield (arb. u.)', labelpad=20)\n",
    "\n",
    "plt.xticks(range(13))\n",
    "\n",
    "plt.xlim([0,12]);\n",
    "plt.ylim(bottom=0);\n",
    "\n",
    "plt.tight_layout()\n",
    "if (save_PNG): plt.savefig('eer.png', dpi=dpi)\n",
    "if (save_EPS): plt.savefig('eer.eps', format='eps')\n",
    "plt.show()"
   ]
  },
  {
   "cell_type": "code",
   "execution_count": null,
   "metadata": {},
   "outputs": [],
   "source": []
  }
 ],
 "metadata": {
  "kernelspec": {
   "display_name": "Python 3 (ipykernel)",
   "language": "python",
   "name": "python3"
  },
  "language_info": {
   "codemirror_mode": {
    "name": "ipython",
    "version": 3
   },
   "file_extension": ".py",
   "mimetype": "text/x-python",
   "name": "python",
   "nbconvert_exporter": "python",
   "pygments_lexer": "ipython3",
   "version": "3.10.9"
  }
 },
 "nbformat": 4,
 "nbformat_minor": 4
}
